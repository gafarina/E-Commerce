{
 "cells": [
  {
   "cell_type": "markdown",
   "metadata": {},
   "source": [
    "# Ecommerce Project\n",
    "\n",
    "This project is about to predict the action that will do the customer in a web page"
   ]
  },
  {
   "cell_type": "code",
   "execution_count": 150,
   "metadata": {},
   "outputs": [],
   "source": [
    "import pandas as pd\n",
    "import numpy as np\n",
    "from sklearn.utils import shuffle\n",
    "import plotly.plotly as py\n",
    "import plotly \n",
    "import plotly.graph_objs as go\n",
    "plotly.tools.set_credentials_file(username='gaston.farina', api_key='qp2zUcv3i5fIvwcecMhb')\n",
    "import matplotlib.pyplot as plt\n",
    "%matplotlib inline"
   ]
  },
  {
   "cell_type": "code",
   "execution_count": 151,
   "metadata": {},
   "outputs": [
    {
     "data": {
      "text/html": [
       "<div>\n",
       "<table border=\"1\" class=\"dataframe\">\n",
       "  <thead>\n",
       "    <tr style=\"text-align: right;\">\n",
       "      <th></th>\n",
       "      <th>is_mobile</th>\n",
       "      <th>n_products_viewed</th>\n",
       "      <th>visit_duration</th>\n",
       "      <th>is_returning_visitor</th>\n",
       "      <th>time_of_day</th>\n",
       "      <th>user_action</th>\n",
       "    </tr>\n",
       "  </thead>\n",
       "  <tbody>\n",
       "    <tr>\n",
       "      <th>0</th>\n",
       "      <td>1</td>\n",
       "      <td>0</td>\n",
       "      <td>0.657510</td>\n",
       "      <td>0</td>\n",
       "      <td>3</td>\n",
       "      <td>0</td>\n",
       "    </tr>\n",
       "    <tr>\n",
       "      <th>1</th>\n",
       "      <td>1</td>\n",
       "      <td>1</td>\n",
       "      <td>0.568571</td>\n",
       "      <td>0</td>\n",
       "      <td>2</td>\n",
       "      <td>1</td>\n",
       "    </tr>\n",
       "    <tr>\n",
       "      <th>2</th>\n",
       "      <td>1</td>\n",
       "      <td>0</td>\n",
       "      <td>0.042246</td>\n",
       "      <td>1</td>\n",
       "      <td>1</td>\n",
       "      <td>0</td>\n",
       "    </tr>\n",
       "    <tr>\n",
       "      <th>3</th>\n",
       "      <td>1</td>\n",
       "      <td>1</td>\n",
       "      <td>1.659793</td>\n",
       "      <td>1</td>\n",
       "      <td>1</td>\n",
       "      <td>2</td>\n",
       "    </tr>\n",
       "    <tr>\n",
       "      <th>4</th>\n",
       "      <td>0</td>\n",
       "      <td>1</td>\n",
       "      <td>2.014745</td>\n",
       "      <td>1</td>\n",
       "      <td>1</td>\n",
       "      <td>2</td>\n",
       "    </tr>\n",
       "  </tbody>\n",
       "</table>\n",
       "</div>"
      ],
      "text/plain": [
       "   is_mobile  n_products_viewed  visit_duration  is_returning_visitor  \\\n",
       "0          1                  0        0.657510                     0   \n",
       "1          1                  1        0.568571                     0   \n",
       "2          1                  0        0.042246                     1   \n",
       "3          1                  1        1.659793                     1   \n",
       "4          0                  1        2.014745                     1   \n",
       "\n",
       "   time_of_day  user_action  \n",
       "0            3            0  \n",
       "1            2            1  \n",
       "2            1            0  \n",
       "3            1            2  \n",
       "4            1            2  "
      ]
     },
     "execution_count": 151,
     "metadata": {},
     "output_type": "execute_result"
    }
   ],
   "source": [
    "Ecommerce = pd.read_csv(\"ecommerce_data.csv\")\n",
    "Ecommerce.head()"
   ]
  },
  {
   "cell_type": "markdown",
   "metadata": {},
   "source": [
    "## Variables\n",
    "\n",
    "The variables are:\n",
    "\n",
    "`is_mobile`: if the user uses a mobile or not\n",
    "\n",
    "`n_products_viewed` : Is the number of products that the user viewed\n",
    "\n",
    "`visit_duration`:  how long is the Visit duration in minutes\n",
    "\n",
    "`is_returning_visitor`:  a boolean variable\n",
    "\n",
    "`time_of_day`:  Time of the day (0,1,2,3 split the 24hours)\n",
    "\n",
    "`user_action`:  Time of the day (bounce,addtocar,begin_checkout,finishCheckout) this is the outcome variable\n",
    "\n",
    "\n",
    "\n"
   ]
  },
  {
   "cell_type": "code",
   "execution_count": 152,
   "metadata": {},
   "outputs": [],
   "source": [
    "def NormalizeData(Vect):\n",
    "    Vec = (Vect-Vect.mean())/Vect.std()\n",
    "    return Vec\n",
    "\n",
    "def OneHotEncoding(Vect):\n",
    "    Vect = pd.get_dummies(Vect,prefix=\"time_of_day\")\n",
    "    return Vect\n",
    "\n",
    "def DataProc(Base):\n",
    "    Base['n_products_viewed'] = NormalizeData(Base['n_products_viewed'])\n",
    "    Base['visit_duration'] = NormalizeData(Base['visit_duration'])\n",
    "    OneHotTime = OneHotEncoding(Ecommerce['time_of_day'])\n",
    "    Base = pd.concat([Base,OneHotTime], axis=1)\n",
    "    Base = Base[['is_mobile','n_products_viewed','visit_duration','is_returning_visitor','time_of_day_0',\n",
    "            'time_of_day_1','time_of_day_2','time_of_day_3','user_action']]\n",
    "    Base = Base[Base['user_action']<=1]\n",
    "    X = Base[['is_mobile','n_products_viewed','visit_duration','is_returning_visitor','time_of_day_0',\n",
    "            'time_of_day_1','time_of_day_2','time_of_day_3']].as_matrix()\n",
    "    Y = Base['user_action'].as_matrix()\n",
    "    return(X,Y)"
   ]
  },
  {
   "cell_type": "markdown",
   "metadata": {
    "collapsed": true
   },
   "source": [
    "## Foward Pass with Random weights\n",
    "\n",
    "The forward pass is $\\hat{Y} = W \\cdot X + b$ then the classification is with $\\sigma \\left(\\hat{Y} \\right)$ the classification rate is roughly $50 \\%$"
   ]
  },
  {
   "cell_type": "code",
   "execution_count": 153,
   "metadata": {},
   "outputs": [
    {
     "name": "stdout",
     "output_type": "stream",
     "text": [
      "The classification Rate is: 0.460455544052\n"
     ]
    }
   ],
   "source": [
    "X,Y = DataProc(Ecommerce)\n",
    "D = X.shape[1]\n",
    "n = X.shape[0]\n",
    "W = np.random.randn(D).reshape((D,1))\n",
    "b = 0\n",
    "\n",
    "def ForwardPass(X,W,b):\n",
    "    Yhat = np.dot(X,W)+b\n",
    "    return Yhat\n",
    "\n",
    "def Sigmoid(Yhat):\n",
    "    return 1/(1+np.exp(-Yhat))\n",
    "\n",
    "def ClassificationRate(Y,Yhat):\n",
    "    return np.mean(Y==Yhat)\n",
    "\n",
    "Yhat = ForwardPass(X,W,b)\n",
    "ClassYhat = Sigmoid(Yhat)\n",
    "PredYhat = 1*(ClassYhat>0.5)\n",
    "Rate = ClassificationRate(Y,PredYhat)\n",
    "\n",
    "print(\"The classification Rate is: \" + str(Rate))\n"
   ]
  },
  {
   "cell_type": "markdown",
   "metadata": {},
   "source": [
    "## Train The Model\n",
    "\n",
    "The shuffle function changes the position of the data and apply gradient descent to the linear classification model\n",
    "\n",
    "![Title](GradientDescentLogistic.png)"
   ]
  },
  {
   "cell_type": "code",
   "execution_count": 171,
   "metadata": {},
   "outputs": [
    {
     "name": "stdout",
     "output_type": "stream",
     "text": [
      "Iteration is: 0 Error Train is : 0.98161752492 Error Test is: 0.973211649904\n",
      "Iteration is: 1000 Error Train is : 0.169754257389 Error Test is: 0.188850422045\n",
      "Iteration is: 2000 Error Train is : 0.167780486241 Error Test is: 0.189989286925\n",
      "Iteration is: 3000 Error Train is : 0.167579036005 Error Test is: 0.190836541936\n",
      "Iteration is: 4000 Error Train is : 0.167552273273 Error Test is: 0.191196612792\n",
      "Iteration is: 5000 Error Train is : 0.167548418761 Error Test is: 0.191340143747\n",
      "Iteration is: 6000 Error Train is : 0.167547847302 Error Test is: 0.1913964043\n",
      "Iteration is: 7000 Error Train is : 0.167547761649 Error Test is: 0.191418333311\n",
      "Iteration is: 8000 Error Train is : 0.167547748757 Error Test is: 0.191426863101\n",
      "Iteration is: 9000 Error Train is : 0.167547746814 Error Test is: 0.191430178361\n",
      "Classification Rate In The Train Set Is: 0.977987421384\n",
      "Classification Rate In The Test Set Is: 0.959119496855\n"
     ]
    }
   ],
   "source": [
    "X,Y = shuffle(X,Y)\n",
    "W = np.random.randn(D).reshape((D,1))\n",
    "b = 0\n",
    "\n",
    "def GetTrainTest(X,Y,thresh):\n",
    "    n_train = int(X.shape[0]*thresh)\n",
    "    n_test = int(X.shape[0]-n_train)\n",
    "    X_train = X[:n_train,:]\n",
    "    Y_train = Y[:n_train]\n",
    "    X_test = X[n_test:,:]\n",
    "    Y_test = Y[n_test:]\n",
    "    return X_train,Y_train,X_test,Y_test\n",
    "\n",
    "def CrossEntropyError(TrueY,ProbY):\n",
    "    return -np.mean(TrueY*np.log(ProbY)+(1-TrueY)*np.log(1-ProbY))\n",
    "\n",
    "X_Train,Y_Train,X_Test,Y_Test = GetTrainTest(X,Y,0.8)\n",
    "Y_Train = Y_Train.reshape((len(Y_Train),1))\n",
    "Y_Test = Y_Test.reshape((len(Y_Test),1))\n",
    "\n",
    "TrainCost = []\n",
    "TestCost = []\n",
    "lr = 0.001\n",
    "for i in range(10000):\n",
    "    PyTrain = Sigmoid(ForwardPass(X_Train,W,b))\n",
    "    PyTest = Sigmoid(ForwardPass(X_Test,W,b))\n",
    "    Error_Train = CrossEntropyError(Y_Train,PyTrain)\n",
    "    Error_Test = CrossEntropyError(Y_Test,PyTest)\n",
    "    TrainCost.append(Error_Train)\n",
    "    TestCost.append(Error_Test)\n",
    "    W -= lr*np.dot(X_Train.T,(PyTrain-Y_Train))\n",
    "    b -= lr*np.sum((PyTrain-Y_Train))\n",
    "    if i % 1000 == 0:\n",
    "        print(\"Iteration is: \" + str(i) + \" Error Train is : \" + str(Error_Train) + \" Error Test is: \"+ str(Error_Test))\n",
    "PredTrainYhat = 1*(PyTrain>0.5)\n",
    "PredTestYhat = 1*(PyTest>0.5)\n",
    "print(\"Classification Rate In The Train Set Is: \" + str(ClassificationRate(Y_Train,PredTrainYhat))) \n",
    "print(\"Classification Rate In The Test Set Is: \" + str(ClassificationRate(Y_Test,PredTestYhat)))   \n",
    "    \n"
   ]
  },
  {
   "cell_type": "markdown",
   "metadata": {},
   "source": [
    "## Plotting the Error Curves|"
   ]
  },
  {
   "cell_type": "code",
   "execution_count": 172,
   "metadata": {},
   "outputs": [
    {
     "data": {
      "text/html": [
       "<iframe id=\"igraph\" scrolling=\"no\" style=\"border:none;\" seamless=\"seamless\" src=\"https://plot.ly/~gaston.farina/17.embed\" height=\"525px\" width=\"100%\"></iframe>"
      ],
      "text/plain": [
       "<plotly.tools.PlotlyDisplay object>"
      ]
     },
     "execution_count": 172,
     "metadata": {},
     "output_type": "execute_result"
    }
   ],
   "source": [
    "TrainCost = np.array(TrainCost)\n",
    "TestCost = np.array(TestCost)\n",
    "\n",
    "trace = go.Scatter(\n",
    "    x = np.arange(len(TrainCost)) ,\n",
    "    y = TrainCost,\n",
    "    mode = 'lines',\n",
    "    name = 'Train Error'\n",
    "    \n",
    ")\n",
    "trace1 = go.Scatter(\n",
    "    x = np.arange(len(TestCost)),\n",
    "    y = TestCost,\n",
    "    mode = 'lines',\n",
    "    name = 'Test Error'\n",
    ")\n",
    "layout = dict(title = 'Comparing Errors',\n",
    "              xaxis=dict(\n",
    "                   title='Itertions'\n",
    "             ),\n",
    "                yaxis=dict(\n",
    "                   title='Error'\n",
    "             )\n",
    "  )\n",
    "              \n",
    "\n",
    "data = [trace,trace1]\n",
    "fig = dict(data=data, layout=layout)\n",
    "py.iplot(fig,filename='TrainTest')\n"
   ]
  },
  {
   "cell_type": "code",
   "execution_count": 173,
   "metadata": {},
   "outputs": [
    {
     "data": {
      "image/png": "[encoded data removed]",
      "text/plain": [
       "<matplotlib.figure.Figure at 0x7f67a0578438>"
      ]
     },
     "metadata": {},
     "output_type": "display_data"
    }
   ],
   "source": [
    "legend1, = plt.plot(TrainCost,label=\"TrainCost\")\n",
    "legend2, = plt.plot(TestCost,label=\"TestCost\")\n",
    "plt.legend([legend1,legend2])\n",
    "plt.show()"
   ]
  },
  {
   "cell_type": "code",
   "execution_count": null,
   "metadata": {
    "collapsed": true
   },
   "outputs": [],
   "source": []
  }
 ],
 "metadata": {
  "kernelspec": {
   "display_name": "Python 3",
   "language": "python",
   "name": "python3"
  },
  "language_info": {
   "codemirror_mode": {
    "name": "ipython",
    "version": 3
   },
   "file_extension": ".py",
   "mimetype": "text/x-python",
   "name": "python",
   "nbconvert_exporter": "python",
   "pygments_lexer": "ipython3",
   "version": "3.5.2"
  }
 },
 "nbformat": 4,
 "nbformat_minor": 2
}
